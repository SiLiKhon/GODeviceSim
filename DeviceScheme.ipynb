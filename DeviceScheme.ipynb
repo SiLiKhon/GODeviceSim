{
 "cells": [
  {
   "cell_type": "code",
   "execution_count": 1,
   "metadata": {},
   "outputs": [
    {
     "name": "stdout",
     "output_type": "stream",
     "text": [
      "env: NGSPICE_LIBRARY_PATH=/usr/local/lib/libngspice.so\n"
     ]
    }
   ],
   "source": [
    "%env NGSPICE_LIBRARY_PATH=/usr/local/lib/libngspice.so"
   ]
  },
  {
   "cell_type": "code",
   "execution_count": 2,
   "metadata": {},
   "outputs": [
    {
     "name": "stdout",
     "output_type": "stream",
     "text": [
      "\u001b[1;32m2023-03-24 19:18:33,635\u001b[0m - \u001b[1;34mPySpice.Spice.NgSpice.Shared.NgSpiceShared._init_ngspice\u001b[0m - \u001b[1;31mWARNING\u001b[0m - Unsupported Ngspice version 39\n"
     ]
    }
   ],
   "source": [
    "import PySpice.Logging.Logging as Logging\n",
    "logger = Logging.setup_logging(logging_level=\"WARNING\")\n",
    "\n",
    "from PySpice.Spice.Netlist import Circuit, SubCircuit\n",
    "import PySpice.Unit as un\n",
    "import numpy as np\n",
    "import matplotlib.pyplot as plt\n",
    "\n",
    "class RCBlock(SubCircuit):\n",
    "    NODES = ('n1', 'n2')\n",
    "    def __init__(self, name, R=1000 @ un.u_kOhm, C=2 @ un.u_uF):\n",
    "        super().__init__(name, *self.NODES)\n",
    "        self.R(1, 'n1', 'n2', R)\n",
    "        self.C(1, 'n1', 'n2', C)\n",
    "\n",
    "TIME_SCALE = 1.0\n",
    "\n",
    "def pulse_params(**kwargs):\n",
    "    params = dict(\n",
    "        num_pulses=20000,\n",
    "        pulse_period=0.2,\n",
    "        pulse_on=0.02,\n",
    "        amplitude=1,\n",
    "    )\n",
    "    params.update(kwargs)\n",
    "    params[\"pulse_period\"] *= TIME_SCALE\n",
    "    params[\"pulse_on\"] *= TIME_SCALE\n",
    "    return params\n",
    "\n",
    "def simulate(pulse_params_1, pulse_params_2):\n",
    "    circuit = Circuit(\"Test\")\n",
    "    circuit.subcircuit(RCBlock(\"rc1\"))\n",
    "    circuit.subcircuit(RCBlock(\"rc2\", C=200 @ un.u_uF))\n",
    "\n",
    "    delay = 0.2\n",
    "    if pulse_params_2[\"amplitude\"] != 0:\n",
    "        dt = pulse_params_2[\"num_pulses\"] * pulse_params_2[\"pulse_period\"]\n",
    "        dt -= (dt % pulse_params_1[\"pulse_period\"])\n",
    "        dt += pulse_params_1[\"pulse_period\"]\n",
    "        delay = 0.2 + dt\n",
    "    circuit.V(\"input1\", \"node0a\", circuit.gnd, \"DC 0 PULSE(0 {amplitude} {delay} 0 0 {pulse_on} {pulse_period} {num_pulses}) AC 0\".format(**pulse_params_1, delay=delay))\n",
    "    circuit.V(\"input2\", \"node0\", \"node0a\", \"DC 0 PULSE(0 {amplitude} {delay} 0 0 {pulse_on} {pulse_period} {num_pulses}) AC 0\".format(**pulse_params_2, delay=0.2))\n",
    "    circuit.X(\"B1\", \"rc1\", \"node0\", \"node1\")\n",
    "    circuit.R(1, \"node1\", \"node2\", 1000 @ un.u_kOhm)\n",
    "    circuit.X(\"B2\", \"rc2\", \"node2\", circuit.gnd)\n",
    "\n",
    "    simulator = circuit.simulator(temperature=25, nominal_temperature=25)\n",
    "\n",
    "    analysis = simulator.transient(step_time=0.1 @ un.u_ms, end_time=(300 * TIME_SCALE) @ un.u_s)\n",
    "\n",
    "    return analysis.time.as_ndarray(), analysis.nodes[\"node2\"].as_ndarray() - analysis.nodes[\"node1\"].as_ndarray()\n",
    "\n",
    "tt1, sim1 = simulate(\n",
    "    pulse_params(),\n",
    "    pulse_params(pulse_period=0.1, num_pulses=1000, pulse_on=0.05),\n",
    ")\n",
    "tt2, sim2 = simulate(\n",
    "    pulse_params(),\n",
    "    pulse_params(amplitude=0),\n",
    ")"
   ]
  },
  {
   "cell_type": "code",
   "execution_count": 3,
   "metadata": {},
   "outputs": [
    {
     "data": {
      "image/png": "[encoded data removed]",
      "text/plain": [
       "<Figure size 640x480 with 1 Axes>"
      ]
     },
     "metadata": {},
     "output_type": "display_data"
    }
   ],
   "source": [
    "plt.plot(\n",
    "    tt1, sim1, alpha=0.5,\n",
    ")\n",
    "plt.plot(\n",
    "    tt2, sim2,\n",
    "    alpha=0.5,\n",
    ")\n",
    "plt.ylim(-1, sim1.max() + 0.2);"
   ]
  }
 ],
 "metadata": {
  "kernelspec": {
   "display_name": "base",
   "language": "python",
   "name": "python3"
  },
  "language_info": {
   "codemirror_mode": {
    "name": "ipython",
    "version": 3
   },
   "file_extension": ".py",
   "mimetype": "text/x-python",
   "name": "python",
   "nbconvert_exporter": "python",
   "pygments_lexer": "ipython3",
   "version": "3.9.12"
  },
  "orig_nbformat": 4
 },
 "nbformat": 4,
 "nbformat_minor": 2
}
